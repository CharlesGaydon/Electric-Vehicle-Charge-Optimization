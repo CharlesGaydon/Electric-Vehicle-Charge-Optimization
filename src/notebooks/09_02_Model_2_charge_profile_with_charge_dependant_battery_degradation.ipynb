{
 "cells": [
  {
   "cell_type": "markdown",
   "metadata": {},
   "source": [
    "# Charge profile optimization - M2\n",
    "\n",
    "Ref: Hoke 2011 [Electric Vehicle Charge Optimization Including\n",
    "Effects of Lithium-Ion Battery Degradation]\n",
    "\n",
    "Here we include a constant cost of charging, as a quadratic function of the charge power in both direction (G2V and V2G).\n",
    "The optimization task is nonlinear and we therefore depart from Google's OR-Tools to use scipy optimize function.\n",
    "\n",
    "Model 1:\n",
    "- An electric vehicle (EV) can charge within a time window (t_min;t_max), from a charge infrastructure with varying electricity prices.\n",
    "\n",
    "Model 2:\n",
    "- Both V2G and G2V charges are allowed: the EV acts as a battery that helps balance offer and demand.\n",
    "- However, charging degrades the battery, and this is accounted by an Arrhenius relationship inspired from Hoke 2011, here with arbitrary parameters.\n",
    "\n",
    "Key observations:\n",
    "- V2G charge occurs at higher electricity prices, while G2V occurs at lower prices. This behavior has economic interests for the consumer, and would help balance the grid demand and offer if the electricity prices translate (as they should).\n",
    "- The higher degradation encountered at higher power charges is captured here (although with arbitrary parameters): as higher charges are associated with increase in temperature and thus increased battery degradation, charge profile occur at a constant power on periods of constant electricity prices (e.g. two consecutive 3kWh charges are preferred to one 6kWh charge and one null charge). Without this effect, for instance with a degradation linear to the power charge, charge powers are herratic (not shown here). \n",
    "\n",
    "Next in Model 3: battery degradation at higher State of Charge will be accounted for."
   ]
  },
  {
   "cell_type": "code",
   "execution_count": 1,
   "metadata": {},
   "outputs": [],
   "source": [
    "import numpy as np\n",
    "import scipy\n",
    "import seaborn as sns; sns.set_style(\"whitegrid\");"
   ]
  },
  {
   "cell_type": "code",
   "execution_count": 2,
   "metadata": {},
   "outputs": [],
   "source": [
    "# Electricity market\n",
    "\n",
    "TIME_PERIOD_HOURS = 24 # starts at noon=0\n",
    "# Costs based on approximation of EDF's \"Tarif Bleu\", august 2020 (https://www.jechange.fr/energie/electricite/guides/prix-electricite-kwh-2435)\n",
    "LOW_COST = 0.1377\n",
    "HIGH_COST = 0.1781\n",
    "ELECTRICITY_COSTS = [LOW_COST]*5 + [HIGH_COST]*4 + [LOW_COST]*10 + [HIGH_COST]*5  # 12h-17h, 17h-21h, 21h-7h, 7H-12h\n",
    "\n",
    "# Vehicle\n",
    "\n",
    "STATE_OF_CHARGE_T0 = 0.30\n",
    "STATE_OF_CHARGE_TCH = 0.90\n",
    "Q_KWH = 30\n",
    "BATTERY_COST = Q_KWH*156*0.84 # euros\n",
    "# based on 2019 average price as reported in \n",
    "# https://about.bnef.com/blog/battery-pack-prices-fall-as-market-ramps-up-with-market-average-at-156-kwh-in-2019/\n",
    "\n",
    "# Charge system\n",
    "\n",
    "CHARGE_POWER_LOWER_BOUND_KWH = -6.6\n",
    "CHARGE_POWER_HIGHER_BOUND_KWH = 6.6\n",
    "\n",
    "def degradation_function(p_):\n",
    "    # degradation is expressed as ratio of total battery lifecycle reduction.\n",
    "    # Form of the function is borrowed from Hoke 2011, with the approximation that temperature would rise\n",
    "    # with higher power charge. The actual environment temperature is considered constant here, and allow charge\n",
    "    # related temperature increase is considered. Parameters a and b are arbitrary.\n",
    "    return (10**-5)*(np.exp(0.05*abs(p_)/CHARGE_POWER_HIGHER_BOUND_KWH))\n",
    "\n",
    "# DEGRADATION_BY_KWH = 0\n",
    "# User\n",
    "T_MIN = 1 # vehicle is plugged\n",
    "T_MAX = 22  # Vehicle to be charged before 7am"
   ]
  },
  {
   "cell_type": "code",
   "execution_count": 3,
   "metadata": {},
   "outputs": [
    {
     "data": {
      "text/plain": [
       "[Text(0.5, 0, 'Time (hours, 0=noon)'),\n",
       " Text(0, 0.5, 'Electricity price (euros)')]"
      ]
     },
     "execution_count": 3,
     "metadata": {},
     "output_type": "execute_result"
    },
    {
     "data": {
      "image/png": "[encoded data removed]",
      "text/plain": [
       "<Figure size 432x288 with 1 Axes>"
      ]
     },
     "metadata": {},
     "output_type": "display_data"
    }
   ],
   "source": [
    "ax = sns.scatterplot(range(24), ELECTRICITY_COSTS)\n",
    "ax.set(xlabel='Time (hours, 0=noon)', ylabel='Electricity price (euros)')"
   ]
  },
  {
   "cell_type": "code",
   "execution_count": 4,
   "metadata": {},
   "outputs": [],
   "source": [
    "# Define the objective function\n",
    "def cost_electricity(p):\n",
    "    return sum(p_*ep for p_,ep in zip(p, ELECTRICITY_COSTS))\n",
    "def cost_degradation(p):\n",
    "    return BATTERY_COST*sum(degradation_function(p_) for p_ in p)\n",
    "def cost_charge(p):\n",
    "    ce = cost_electricity(p)\n",
    "    cd = cost_degradation(p)\n",
    "    return ce + cd\n",
    "\n",
    "# Define bounds constraints\n",
    "from scipy.optimize import Bounds\n",
    "lb = [0]*T_MIN + [CHARGE_POWER_LOWER_BOUND_KWH]*(T_MAX-T_MIN) + [0]*(24-T_MAX)\n",
    "ub = [0]*T_MIN + [CHARGE_POWER_HIGHER_BOUND_KWH]*(T_MAX-T_MIN) + [0]*(24-T_MAX)\n",
    "\n",
    "bounds = Bounds(lb, ub)\n",
    "\n",
    "# Define linear constraints for the charge up to t to be within [0, Q], and to be at least at desired SOC at T_MAX.\n",
    "from scipy.optimize import LinearConstraint\n",
    "m = np.tril([1]*24).reshape((24,24))\n",
    "lb = np.ones((24,))*(-STATE_OF_CHARGE_T0*Q_KWH)\n",
    "lb[T_MAX:] = (STATE_OF_CHARGE_TCH-STATE_OF_CHARGE_T0)*Q_KWH\n",
    "ub = np.ones((24,))*((1-STATE_OF_CHARGE_T0)*Q_KWH)\n",
    "linear_constraint = LinearConstraint(m.tolist(), lb, ub)"
   ]
  },
  {
   "cell_type": "code",
   "execution_count": 5,
   "metadata": {},
   "outputs": [
    {
     "name": "stdout",
     "output_type": "stream",
     "text": [
      "`gtol` termination condition is satisfied.\n",
      "Number of iterations: 38, function evaluations: 775, CG iterations: 81, optimality: 9.44e-09, constraint violation: 1.60e-13, execution time: 0.57 s.\n"
     ]
    }
   ],
   "source": [
    "# solving the problem\n",
    "from scipy.optimize import minimize\n",
    "p0 = [1]*24\n",
    "res = minimize(cost_charge, p0, method='trust-constr', constraints=[linear_constraint],\n",
    "               options={'verbose': 1}, bounds=bounds)"
   ]
  },
  {
   "cell_type": "code",
   "execution_count": 6,
   "metadata": {},
   "outputs": [
    {
     "name": "stdout",
     "output_type": "stream",
     "text": [
      "Optimal charge profile (kWh):\n",
      "[0.0, 4.35, 4.36, 4.35, 4.35, -6.6, -6.6, -6.6, -6.6, 3.0, 3.0, 3.0, 3.0, 3.0, 3.0, 3.0, 3.0, 3.0, 3.0, -1.01, -1.0, -1.0, -0.0, 0.0]\n",
      "Resulting vehicle charge (kWh)\n",
      "[9.000e+00 1.335e+01 1.771e+01 2.206e+01 2.641e+01 1.981e+01 1.321e+01\n",
      " 6.610e+00 1.000e-02 3.010e+00 6.010e+00 9.010e+00 1.201e+01 1.501e+01\n",
      " 1.801e+01 2.101e+01 2.401e+01 2.701e+01 3.001e+01 2.900e+01 2.800e+01\n",
      " 2.700e+01 2.700e+01 2.700e+01]\n",
      "Total balance of grid = 2.3 € (electricity = 1.3 €, degradation = 1.0 €)\n"
     ]
    },
    {
     "data": {
      "text/plain": [
       "[Text(0.5, 0, 'Time (hours, 0=noon)'),\n",
       " Text(0, 0.5, 'Power charge (kWh)'),\n",
       " Text(0.5, 1.0, 'Optimal charge profile')]"
      ]
     },
     "execution_count": 6,
     "metadata": {},
     "output_type": "execute_result"
    },
    {
     "data": {
      "image/png": "[encoded data removed]",
      "text/plain": [
       "<Figure size 432x288 with 1 Axes>"
      ]
     },
     "metadata": {},
     "output_type": "display_data"
    }
   ],
   "source": [
    "print('Optimal charge profile (kWh):')\n",
    "solution = [round(rx,2) for rx in res.x]\n",
    "print(solution)\n",
    "print('Resulting vehicle charge (kWh)')\n",
    "print(np.cumsum(solution) + Q_KWH*STATE_OF_CHARGE_T0)\n",
    "print('Total balance of grid = {} € (electricity = {} €, degradation = {} €)'.format(round(cost_charge(res.x), 1),\n",
    "                                                                            round(cost_electricity(res.x), 1),\n",
    "                                                                            round(cost_degradation(res.x), 1)))\n",
    "ax = sns.scatterplot(range(24), res.x)\n",
    "ax.set(xlabel='Time (hours, 0=noon)', ylabel='Power charge (kWh)', title=\"Optimal charge profile\")"
   ]
  }
 ],
 "metadata": {
  "kernelspec": {
   "display_name": "Python 3",
   "language": "python",
   "name": "python3"
  },
  "language_info": {
   "codemirror_mode": {
    "name": "ipython",
    "version": 3
   },
   "file_extension": ".py",
   "mimetype": "text/x-python",
   "name": "python",
   "nbconvert_exporter": "python",
   "pygments_lexer": "ipython3",
   "version": "3.7.3"
  }
 },
 "nbformat": 4,
 "nbformat_minor": 4
}
