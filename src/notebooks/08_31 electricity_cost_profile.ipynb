{
 "cells": [
  {
   "cell_type": "markdown",
   "metadata": {},
   "source": [
    "Using a linear solver (namely: GLOP) to solve for optimized charge profile based on electricity costs.\n",
    "\n",
    "Linear optimization oes not allow for adequate penalization of V2H charging behavior and here we do not allow for V2H charge. "
   ]
  },
  {
   "cell_type": "code",
   "execution_count": 50,
   "metadata": {},
   "outputs": [],
   "source": [
    "import ortools\n",
    "import numpy\n",
    "from ortools.linear_solver import pywraplp\n",
    "import seaborn as sns; sns.set_style(\"whitegrid\");"
   ]
  },
  {
   "cell_type": "code",
   "execution_count": 59,
   "metadata": {},
   "outputs": [],
   "source": [
    "# Electricity market\n",
    "\n",
    "TIME_PERIOD_HOURS = 24 # starts at noon=0\n",
    "# Costs based on approximation of EDF's \"Tarif Bleu\", august 2020 (https://www.jechange.fr/energie/electricite/guides/prix-electricite-kwh-2435)\n",
    "LOW_COST = 0.1377\n",
    "HIGH_COST = 0.1781\n",
    "ELECTRICITY_COSTS = [LOW_COST]*5 + [HIGH_COST]*4 + [LOW_COST]*10 + [HIGH_COST]*5  # 12h-17h, 17h-21h, 21h-7h, 7H-12h\n",
    "\n",
    "# TODO: think about replacing by a function to allow for more temporal granularity\n",
    "\n",
    "# Vehicle\n",
    "\n",
    "STATE_OF_CHARGE_T0 = 0.30\n",
    "STATE_OF_CHARGE_TCH = 0.90\n",
    "Q_KWH = 30\n",
    "\n",
    "# Charge system\n",
    "\n",
    "CHARGE_POWER_LOWER_BOUND_KWH = 0 # negative would allow V2H transfer\n",
    "CHARGE_POWER_HIGHER_BOUND_KWH = 6.6\n",
    "\n",
    "# User\n",
    "T_MIN = 1 # vehicle is plugged\n",
    "T_MAX = 9  # Vehicle to be charged before 7pm"
   ]
  },
  {
   "cell_type": "code",
   "execution_count": 60,
   "metadata": {},
   "outputs": [
    {
     "data": {
      "text/plain": [
       "[Text(0.5, 0, 'Time (hours, 0=noon)'),\n",
       " Text(0, 0.5, 'Electricity price (euros)')]"
      ]
     },
     "execution_count": 60,
     "metadata": {},
     "output_type": "execute_result"
    },
    {
     "data": {
      "image/png": "[encoded data removed]",
      "text/plain": [
       "<Figure size 432x288 with 1 Axes>"
      ]
     },
     "metadata": {},
     "output_type": "display_data"
    }
   ],
   "source": [
    "ax = sns.scatterplot(range(24), ELECTRICITY_COSTS)\n",
    "ax.set(xlabel='Time (hours, 0=noon)', ylabel='Electricity price (euros)')"
   ]
  },
  {
   "cell_type": "code",
   "execution_count": 61,
   "metadata": {},
   "outputs": [
    {
     "name": "stdout",
     "output_type": "stream",
     "text": [
      "Optimal charge profile (kWh):\n",
      "[0.0, 0.0, 4.800000000000004, 6.6, 6.6, 0.0, 0.0, 0.0, 0.0, 0.0, 0.0, 0.0, 0.0, 0.0, 0.0, 0.0, 0.0, 0.0, 0.0, 0.0, 0.0, 0.0, 0.0, 0.0]\n",
      "Resulting vehicle charge (kWh)\n",
      "[ 9.   9.  13.8 20.4 27.  27.  27.  27.  27.  27.  27.  27.  27.  27.\n",
      " 27.  27.  27.  27.  27.  27.  27.  27.  27.  27. ]\n",
      "Total balance = 2.4786€\n"
     ]
    }
   ],
   "source": [
    "# optimization \n",
    "\n",
    "solver = pywraplp.Solver.CreateSolver('simple_lp_program', 'GLOP')\n",
    "# create charge power variables for each time of day\n",
    "variables = []\n",
    "for i in range(24):\n",
    "    if (i < T_MIN) or  (T_MAX <= i):\n",
    "        p = solver.NumVar(0, 0, 'p{}'.format(i))\n",
    "    else:\n",
    "        p = solver.NumVar(CHARGE_POWER_LOWER_BOUND_KWH, CHARGE_POWER_HIGHER_BOUND_KWH, 'p{}'.format(i))\n",
    "    variables.append(p)\n",
    "\n",
    "# create constraint that vehicle is to be charged (>90% of Q) before t_max\n",
    "ct_charge_vehicle_before_tmax = solver.Constraint(Q_KWH*(STATE_OF_CHARGE_TCH - STATE_OF_CHARGE_T0), \n",
    "                                                  Q_KWH*(1-STATE_OF_CHARGE_T0), \n",
    "                                                  'ct_charge_vehicle_before_tmax')\n",
    "for variable in variables[:T_MAX]:\n",
    "    ct_charge_vehicle_before_tmax.SetCoefficient(variable, 1)\n",
    "\n",
    "# create constraint of bounded charge at each time\n",
    "for i in range(1,25):\n",
    "    ct_bounded_charge = solver.Constraint(- Q_KWH*STATE_OF_CHARGE_T0,\n",
    "                                          Q_KWH*(1-STATE_OF_CHARGE_T0),\n",
    "                                          'ct_bounded_charge')\n",
    "    for variable in variables[:i]:\n",
    "        ct_bounded_charge.SetCoefficient(variable, 1)\n",
    "\n",
    "# set the objective: minimizing price\n",
    "objective = solver.Objective()\n",
    "for i, variable in enumerate(variables):\n",
    "    objective.SetCoefficient(variable, ELECTRICITY_COSTS[i])\n",
    "objective.SetMinimization()\n",
    "\n",
    "# solve\n",
    "solver.Solve()\n",
    "print('Optimal charge profile (kWh):')\n",
    "solution = [variable.solution_value() for variable in variables]\n",
    "print(solution)\n",
    "print('Resulting vehicle charge (kWh)')\n",
    "print(np.cumsum(solution) + Q_KWH*STATE_OF_CHARGE_T0)\n",
    "print('Total balance = {}€'.format(round(objective.Value(),4)))\n"
   ]
  },
  {
   "cell_type": "code",
   "execution_count": 62,
   "metadata": {},
   "outputs": [
    {
     "data": {
      "text/plain": [
       "[Text(0.5, 0, 'Time (hours, 0=noon)'), Text(0, 0.5, 'Power charge (kWh)')]"
      ]
     },
     "execution_count": 62,
     "metadata": {},
     "output_type": "execute_result"
    },
    {
     "data": {
      "image/png": "[encoded data removed]",
      "text/plain": [
       "<Figure size 432x288 with 1 Axes>"
      ]
     },
     "metadata": {},
     "output_type": "display_data"
    }
   ],
   "source": [
    "ax = sns.lineplot(range(24), solution)\n",
    "ax.set(xlabel='Time (hours, 0=noon)', ylabel='Power charge (kWh)')"
   ]
  },
  {
   "cell_type": "code",
   "execution_count": 63,
   "metadata": {},
   "outputs": [],
   "source": [
    "# Conclusion: in this simple model, the charge occurs at low electricity prices, as could be expected."
   ]
  }
 ],
 "metadata": {
  "kernelspec": {
   "display_name": "Python 3",
   "language": "python",
   "name": "python3"
  },
  "language_info": {
   "codemirror_mode": {
    "name": "ipython",
    "version": 3
   },
   "file_extension": ".py",
   "mimetype": "text/x-python",
   "name": "python",
   "nbconvert_exporter": "python",
   "pygments_lexer": "ipython3",
   "version": "3.7.3"
  }
 },
 "nbformat": 4,
 "nbformat_minor": 4
}
